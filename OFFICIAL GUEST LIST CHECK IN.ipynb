{
 "cells": [
  {
   "cell_type": "code",
   "execution_count": 1,
   "metadata": {},
   "outputs": [
    {
     "name": "stdout",
     "output_type": "stream",
     "text": [
      "First Name: raja\n",
      "Last Name: adil\n",
      "\n",
      "Thanks for checking in!\n",
      "\n",
      "First Name: Raja\n",
      "Last Name: Adil\n",
      "(checked in at 2020-07-16 21:17:23.834148)\n",
      "\n",
      "First Name: Harrold\n",
      "Last Name: Yu\n",
      "(checked in at 2020-07-16 21:17:29.844169)\n",
      "\n",
      "First Name: Michael\n",
      "Last Name: Jackson\n",
      "(checked in at 2020-07-16 21:17:36.866379)\n",
      "\n",
      "First Name: Mike \n",
      "Last Name: Tyson\n",
      "(checked in at 2020-07-16 21:17:43.269481)\n",
      "\n",
      "First Name: Cassius\n",
      "Last Name: Stanley\n",
      "(checked in at 2020-07-16 21:17:51.424193)\n",
      "\n",
      "First Name: Raja\n",
      "Last Name: Adil\n",
      "(checked in at 2020-07-16 21:48:54.201859)\n",
      "\n"
     ]
    }
   ],
   "source": [
    "#This creates the file and the guest list\n",
    "import datetime\n",
    "while True:\n",
    "    try:\n",
    "        fn = input(\"First Name: \").title()\n",
    "    except ValueError:\n",
    "        print(\"Invalid Response!\")\n",
    "        continue\n",
    "    try:\n",
    "        ln = input(\"Last Name: \").title()\n",
    "        with open('guest_book.txt', 'a') as names:\n",
    "            names.write(f\"\\nFirst Name: {fn}\")\n",
    "            names.write(f\"\\nLast Name: {ln}\\n\")\n",
    "            names.write(f\"(checked in at {datetime.datetime.now()})\\n\")\n",
    "        print('')\n",
    "        print('Thanks for checking in!')\n",
    "        break\n",
    "    except ValueError:\n",
    "        print(\"Invalid Response!\")\n",
    "        continue\n",
    "\n",
    "#This prints out the guest list and when they arrived\n",
    "#It reads the file\n",
    "with open('guest_book.txt') as names:\n",
    "    print(names.read())"
   ]
  },
  {
   "cell_type": "code",
   "execution_count": null,
   "metadata": {},
   "outputs": [],
   "source": []
  }
 ],
 "metadata": {
  "kernelspec": {
   "display_name": "Python 3",
   "language": "python",
   "name": "python3"
  },
  "language_info": {
   "codemirror_mode": {
    "name": "ipython",
    "version": 3
   },
   "file_extension": ".py",
   "mimetype": "text/x-python",
   "name": "python",
   "nbconvert_exporter": "python",
   "pygments_lexer": "ipython3",
   "version": "3.7.6"
  }
 },
 "nbformat": 4,
 "nbformat_minor": 4
}
